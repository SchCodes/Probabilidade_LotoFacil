{
 "cells": [
  {
   "cell_type": "code",
   "execution_count": 1,
   "metadata": {},
   "outputs": [],
   "source": [
    "import pandas as pd\n",
    "from collections import Counter"
   ]
  },
  {
   "cell_type": "code",
   "execution_count": 2,
   "metadata": {},
   "outputs": [],
   "source": [
    "#carregar a planilha com os sorteios\n",
    "dados = pd.read_excel('BD_full_lotoFacil.xlsx', header= None)"
   ]
  },
  {
   "cell_type": "code",
   "execution_count": null,
   "metadata": {},
   "outputs": [],
   "source": [
    "print(f'{dados.head(10)}\\n')"
   ]
  },
  {
   "cell_type": "code",
   "execution_count": 4,
   "metadata": {},
   "outputs": [],
   "source": [
    "# Juntar as colunas dos números sorteados (colunas 2 a 16, pois Python usa indexação a partir de 0)\n",
    "dados['numeros_juntos'] = dados.loc[:, 2:16].apply(lambda row: ','.join(row.astype(str)), axis=1)"
   ]
  },
  {
   "cell_type": "code",
   "execution_count": null,
   "metadata": {},
   "outputs": [],
   "source": [
    "dados['numeros_juntos']"
   ]
  },
  {
   "cell_type": "code",
   "execution_count": 6,
   "metadata": {},
   "outputs": [],
   "source": [
    "#separar os números sorteados agrupados em uma coluna\n",
    "dados['numeros_juntos'] = dados['numeros_juntos'].str.split(',')"
   ]
  },
  {
   "cell_type": "code",
   "execution_count": 8,
   "metadata": {},
   "outputs": [],
   "source": [
    "dados = dados.drop(0)"
   ]
  },
  {
   "cell_type": "code",
   "execution_count": 10,
   "metadata": {},
   "outputs": [],
   "source": [
    "todos_numeros = [int(num) for sublist in dados['numeros_juntos'] for num in sublist]"
   ]
  },
  {
   "cell_type": "code",
   "execution_count": 11,
   "metadata": {},
   "outputs": [],
   "source": [
    "frequencia = Counter(todos_numeros)"
   ]
  },
  {
   "cell_type": "code",
   "execution_count": null,
   "metadata": {},
   "outputs": [],
   "source": [
    "frequencia"
   ]
  },
  {
   "cell_type": "code",
   "execution_count": 13,
   "metadata": {},
   "outputs": [],
   "source": [
    "frequencia_df = pd.DataFrame(list(frequencia.items()), columns=['Número', 'Frequência'])"
   ]
  },
  {
   "cell_type": "code",
   "execution_count": 14,
   "metadata": {},
   "outputs": [],
   "source": [
    "frequencia_df = frequencia_df.sort_values(by='Frequência', ascending= False)"
   ]
  },
  {
   "cell_type": "code",
   "execution_count": 15,
   "metadata": {},
   "outputs": [],
   "source": [
    "frequencia_df.to_csv('frequencia_full.csv', index=False)\n",
    "frequencia_df.to_excel('frequencia_full.xlsx', index=False)"
   ]
  },
  {
   "cell_type": "code",
   "execution_count": 21,
   "metadata": {},
   "outputs": [],
   "source": [
    "import matplotlib.pyplot as plt\n",
    "import seaborn as sns"
   ]
  },
  {
   "cell_type": "code",
   "execution_count": 22,
   "metadata": {},
   "outputs": [],
   "source": [
    "# Configurar o estilo do Seaborn\n",
    "sns.set(style=\"whitegrid\")"
   ]
  },
  {
   "cell_type": "markdown",
   "metadata": {},
   "source": [
    "Paleta de Cores: A paleta viridis foi escolhida para dar cores agradáveis ao gráfico. Você pode trocar a paleta para outras opções, como Blues, coolwarm, magma, mako, Blues_d, crest"
   ]
  },
  {
   "cell_type": "code",
   "execution_count": null,
   "metadata": {},
   "outputs": [],
   "source": [
    "# Criar o gráfico de barras, com 'Número' atribuído a 'hue' e 'legend=False'\n",
    "plt.figure(figsize=(10, 6))  # Tamanho do gráfico\n",
    "sns.barplot(x='Número', y='Frequência', hue='Número', data=frequencia_df, palette='coolwarm', dodge=False, legend=False)\n",
    "#sns.barplot(x='Número', y='Frequência', data=frequencia_df, palette='crest')\n",
    "\n",
    "# Adicionar título e rótulos\n",
    "plt.title('Frequência dos Números Sorteados na Lotofácil', fontsize=16)\n",
    "plt.xlabel('Números Sorteados', fontsize=12)\n",
    "plt.ylabel('Frequência', fontsize=12)\n",
    "\n",
    "# Mostrar o gráfico\n",
    "plt.show()"
   ]
  },
  {
   "cell_type": "code",
   "execution_count": 20,
   "metadata": {},
   "outputs": [],
   "source": [
    "# Mostrar o gráfico\n",
    "plt.show()"
   ]
  }
 ],
 "metadata": {
  "kernelspec": {
   "display_name": "Python 3",
   "language": "python",
   "name": "python3"
  },
  "language_info": {
   "codemirror_mode": {
    "name": "ipython",
    "version": 3
   },
   "file_extension": ".py",
   "mimetype": "text/x-python",
   "name": "python",
   "nbconvert_exporter": "python",
   "pygments_lexer": "ipython3",
   "version": "3.12.6"
  }
 },
 "nbformat": 4,
 "nbformat_minor": 2
}
