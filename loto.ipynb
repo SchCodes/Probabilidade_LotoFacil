{
 "cells": [
  {
   "cell_type": "markdown",
   "metadata": {},
   "source": [
    "# Exemplo de uso:"
   ]
  },
  {
   "cell_type": "code",
   "execution_count": null,
   "metadata": {},
   "outputs": [],
   "source": [
    "import leganalise as leg"
   ]
  },
  {
   "cell_type": "code",
   "execution_count": null,
   "metadata": {},
   "outputs": [],
   "source": [
    "lotofacil = leg.analise(tamanho_amostra=21) # instancia a classe analise"
   ]
  },
  {
   "cell_type": "code",
   "execution_count": null,
   "metadata": {},
   "outputs": [],
   "source": [
    "lotofacil.coletar_dados() # Coleta os dados do site da Caixa"
   ]
  },
  {
   "cell_type": "code",
   "execution_count": null,
   "metadata": {},
   "outputs": [],
   "source": [
    "#  10 mais frequentes e 5 menos frequentes\n",
    "frequencia = lotofacil.calcular_frequencia_amostra()\n",
    "first = {k: frequencia[k] for k in list(frequencia)[:10]} # 10 mais frequentes\n",
    "bot = {k: frequencia[k] for k in list(frequencia)[20:]} # 5 menos frequentes\n",
    "for k, v in bot.items(): # adiciona os 5 menos frequentes ao dicionario first\n",
    "    first[k] = v\n",
    "print(first)"
   ]
  },
  {
   "cell_type": "code",
   "execution_count": null,
   "metadata": {},
   "outputs": [],
   "source": [
    "#  5 mais frequentes e 10 menos frequentes\n",
    "second = {k: frequencia[k] for k in list(frequencia)[:5]} # 5 mais frequentes\n",
    "bot = {k: frequencia[k] for k in list(frequencia)[15:]} # 10 menos frequentes\n",
    "for k, v in bot.items(): # adiciona os 10 menos frequentes ao dicionario second\n",
    "    second[k] = v\n",
    "print(second)\n",
    "print(frequencia)"
   ]
  },
  {
   "cell_type": "code",
   "execution_count": null,
   "metadata": {},
   "outputs": [],
   "source": [
    "for i in range(2, 17):\n",
    "    lotofacil.plotar_scatter_media_movel(i, 5) # plota o scatter plot com media movel de 5"
   ]
  }
 ],
 "metadata": {
  "kernelspec": {
   "display_name": ".venvProbLoto",
   "language": "python",
   "name": "python3"
  },
  "language_info": {
   "codemirror_mode": {
    "name": "ipython",
    "version": 3
   },
   "file_extension": ".py",
   "mimetype": "text/x-python",
   "name": "python",
   "nbconvert_exporter": "python",
   "pygments_lexer": "ipython3",
   "version": "3.12.7"
  }
 },
 "nbformat": 4,
 "nbformat_minor": 2
}
